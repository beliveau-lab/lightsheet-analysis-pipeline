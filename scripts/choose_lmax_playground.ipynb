{
 "cells": [
  {
   "cell_type": "code",
   "execution_count": 1,
   "metadata": {},
   "outputs": [
    {
     "name": "stderr",
     "output_type": "stream",
     "text": [
      "2025-07-10 11:45:51,875 - INFO - --- Environment Versions ---\n",
      "2025-07-10 11:45:51,876 - INFO - Platform: Linux-5.15.0-119-generic-x86_64-with-glibc2.35\n",
      "2025-07-10 11:45:51,877 - INFO - Python: 3.13.3 | packaged by conda-forge | (main, Apr 14 2025, 20:44:03) [GCC 13.3.0]\n",
      "2025-07-10 11:45:51,879 - INFO - Dask: 2025.2.0\n",
      "2025-07-10 11:45:51,881 - INFO - Distributed: 2025.2.0\n",
      "2025-07-10 11:45:51,881 - INFO - Cloudpickle: 3.0.0\n",
      "2025-07-10 11:45:51,882 - INFO - Msgpack: 1.0.8\n",
      "2025-07-10 11:45:51,883 - INFO - Zarr: 2.13.3\n",
      "2025-07-10 11:45:51,883 - INFO - NumPy: 2.2.6\n",
      "2025-07-10 11:45:51,884 - INFO - Scikit-image: 0.25.0\n",
      "2025-07-10 11:45:51,885 - INFO - --- Dask Config (relevant parts) ---\n",
      "2025-07-10 11:45:51,886 - INFO - distributed.comm.compression: False\n",
      "2025-07-10 11:45:51,887 - INFO - --- End Environment Info ---\n"
     ]
    }
   ],
   "source": [
    "# Imports\n",
    "import numpy as np\n",
    "import pandas as pd\n",
    "from skimage.measure import regionprops_table\n",
    "import time\n",
    "import matplotlib.pyplot as plt\n",
    "from sklearn.decomposition import PCA\n",
    "\n",
    "import feature_extraction as fe\n",
    "from aicsshparam import shtools, shparam # spherical harmonics package\n",
    "import seaborn as sns\n",
    "import sparse\n",
    "import align_3d as align\n",
    "\n",
    "import json\n",
    "import logging\n",
    "from pathlib import Path\n",
    "from typing import Dict, List, Tuple, Optional, Any\n",
    "import argparse\n",
    "import time\n",
    "import sys\n",
    "import os\n",
    "\n",
    "import numpy as np\n",
    "import pandas as pd\n",
    "import sparse\n",
    "import dask.array as da\n",
    "from aicsshparam import shtools, shparam\n",
    "from dask import delayed, compute\n",
    "\n",
    "import importlib\n",
    "import choose_lmax\n",
    "\n",
    "importlib.reload(choose_lmax)\n",
    "from choose_lmax import BootstrapLmaxSelection\n",
    "\n",
    "\n",
    "mask_path = '/net/beliveau/vol2/instrument/E9.5_290/Zoom_290_subset_test/dataset_fused_masks_cpsamr5.zarr'\n",
    "n5_image_path = '/net/beliveau/vol2/instrument/E9.5_290/Zoom_290_subset_test/dataset_fused.n5'\n"
   ]
  },
  {
   "cell_type": "code",
   "execution_count": 3,
   "metadata": {},
   "outputs": [],
   "source": [
    "# params = {\n",
    "#     \"num_workers\": 1,\n",
    "#     \"mem_per_worker\": \"64G\",\n",
    "#     \"cores_per_worker\": 2,\n",
    "#     \"sample_size\": 100,\n",
    "#     \"sampling_rate\": 2.752,\n",
    "#     \"min_object_size\": 100,\n",
    "#     \"lmax_min\": 4,\n",
    "#     \"lmax_max\": 28,\n",
    "#     \"default_lmax\": 12,\n",
    "#     \"error_batch_size\": 25,# Process 25 objects at a time per dask task,\n",
    "#     'use_dask': False\n",
    "# }\n",
    "mask_path = '/net/beliveau/vol2/instrument/E9.5_290/Zoom_290_subset_test/dataset_fused_masks_cpsamr5.zarr'\n",
    "n5_image_path = '/net/beliveau/vol2/instrument/E9.5_290/Zoom_290_subset_test/dataset_fused.n5'\n",
    "\n",
    "# loocv_optimizer = SphericalHarmonicsLOOCV(params)\n",
    "# optimal_lmax, cv_results = loocv_optimizer.select_optimal_lmax(mask_path)\n",
    "# print(f\"Optimal lmax: {optimal_lmax}\")\n",
    "# print(\"CV results:\", cv_results)\n",
    "\n",
    "# optimizer = BootstrapLmaxSelection(params) \n",
    "# optimizer.select_optimal_lmax(mask_path)"
   ]
  }
 ],
 "metadata": {
  "kernelspec": {
   "display_name": "otls-pipeline",
   "language": "python",
   "name": "python3"
  },
  "language_info": {
   "codemirror_mode": {
    "name": "ipython",
    "version": 3
   },
   "file_extension": ".py",
   "mimetype": "text/x-python",
   "name": "python",
   "nbconvert_exporter": "python",
   "pygments_lexer": "ipython3",
   "version": "3.13.3"
  }
 },
 "nbformat": 4,
 "nbformat_minor": 2
}
